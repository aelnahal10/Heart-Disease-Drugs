{
 "cells": [
  {
   "cell_type": "code",
   "execution_count": 1,
   "id": "25bc0da2",
   "metadata": {},
   "outputs": [],
   "source": [
    "#Import Datasets\n",
    "import numpy as np\n",
    "import pandas as pd\n",
    "from sklearn.tree import DecisionTreeClassifier\n",
    "import sklearn.tree as tree\n",
    "from sklearn import preprocessing\n",
    "from sklearn.model_selection import train_test_split"
   ]
  },
  {
   "cell_type": "code",
   "execution_count": 2,
   "id": "bb2efa4a",
   "metadata": {},
   "outputs": [
    {
     "name": "stdout",
     "output_type": "stream",
     "text": [
      "   Age Sex      BP Cholesterol  Na_to_K   Drug\n",
      "0   23   F    HIGH        HIGH   25.355  drugY\n",
      "1   47   M     LOW        HIGH   13.093  drugC\n",
      "2   47   M     LOW        HIGH   10.114  drugC\n",
      "3   28   F  NORMAL        HIGH    7.798  drugX\n",
      "4   61   F     LOW        HIGH   18.043  drugY\n",
      "(200, 6)\n"
     ]
    }
   ],
   "source": [
    "# Read data, view its first 5 rows and shape(Row,Columns)\n",
    "drug_df = pd.read_csv(\"drug200.csv\", delimiter=\",\")\n",
    "print(drug_df[0:5])\n",
    "print(drug_df.shape)"
   ]
  },
  {
   "cell_type": "code",
   "execution_count": 4,
   "id": "1b36145c",
   "metadata": {},
   "outputs": [],
   "source": [
    "X = drug_df[['Age','Sex','BP','Cholesterol']].values\n",
    "y = drug_df[['Drug']]"
   ]
  },
  {
   "cell_type": "code",
   "execution_count": 5,
   "id": "2a6b347e",
   "metadata": {},
   "outputs": [],
   "source": [
    "#Encode sex categories\n",
    "le_sex = preprocessing.LabelEncoder()\n",
    "le_sex.fit(['F','M'])\n",
    "X[:,1] = le_sex.transform(X[:,1])\n"
   ]
  },
  {
   "cell_type": "code",
   "execution_count": 6,
   "id": "1170dcc4",
   "metadata": {},
   "outputs": [],
   "source": [
    "#Encode blood pressure categories\n",
    "le_BP = preprocessing.LabelEncoder()\n",
    "le_BP.fit([ 'LOW', 'NORMAL', 'HIGH'])\n",
    "X[:,2] = le_BP.transform(X[:,2])"
   ]
  },
  {
   "cell_type": "code",
   "execution_count": 7,
   "id": "36d81cc9",
   "metadata": {},
   "outputs": [],
   "source": [
    "#Encode chlosterol levels categories\n",
    "le_Chol = preprocessing.LabelEncoder()\n",
    "le_Chol.fit([ 'NORMAL', 'HIGH'])\n",
    "X[:,3] = le_Chol.transform(X[:,3])"
   ]
  },
  {
   "cell_type": "code",
   "execution_count": 8,
   "id": "13041fea",
   "metadata": {},
   "outputs": [],
   "source": [
    "#Split data into train and test sets\n",
    "X_trainset, X_testset, y_trainset, y_testset = train_test_split(X, y, test_size=0.3, random_state=3)"
   ]
  },
  {
   "cell_type": "code",
   "execution_count": 9,
   "id": "46209a8a",
   "metadata": {},
   "outputs": [],
   "source": [
    "#Create an instance of the DecisionTreeClassifier called drugTree\n",
    "drugTree = DecisionTreeClassifier(criterion=\"entropy\",max_depth=4)"
   ]
  },
  {
   "cell_type": "code",
   "execution_count": 10,
   "id": "56041030",
   "metadata": {},
   "outputs": [
    {
     "name": "stdout",
     "output_type": "stream",
     "text": [
      "['drugY' 'drugX' 'drugY' 'drugY' 'drugY']\n"
     ]
    }
   ],
   "source": [
    "#fit the model and predict the test set\n",
    "drugTree.fit(X_trainset,y_trainset)\n",
    "predTree = drugTree.predict(X_testset)\n",
    "print(predTree[0:5])"
   ]
  },
  {
   "cell_type": "code",
   "execution_count": 21,
   "id": "2a6878a6",
   "metadata": {},
   "outputs": [],
   "source": [
    "#Now lets evaluate the model using the accuray score and confusion Matrix\n",
    "#import sklearn metrics library\n",
    "#import matplotlib library as well\n",
    "from sklearn.metrics import confusion_matrix\n",
    "from sklearn import metrics\n",
    "import matplotlib.pyplot as plt\n",
    "import seaborn as sns\n"
   ]
  },
  {
   "cell_type": "code",
   "execution_count": 16,
   "id": "311f0282",
   "metadata": {},
   "outputs": [
    {
     "name": "stdout",
     "output_type": "stream",
     "text": [
      "DecisionTrees's Accuracy:  0.5\n"
     ]
    },
    {
     "data": {
      "image/png": "[encoded data removed]",
      "text/plain": [
       "<Figure size 432x288 with 1 Axes>"
      ]
     },
     "metadata": {
      "needs_background": "light"
     },
     "output_type": "display_data"
    }
   ],
   "source": [
    "print(\"DecisionTrees's Accuracy: \", metrics.accuracy_score(y_testset, predTree))\n",
    "tree.plot_tree(drugTree)\n",
    "plt.show()\n"
   ]
  },
  {
   "cell_type": "code",
   "execution_count": 23,
   "id": "b8d12445",
   "metadata": {},
   "outputs": [
    {
     "data": {
      "image/png": "[encoded data removed]",
      "text/plain": [
       "<Figure size 432x288 with 2 Axes>"
      ]
     },
     "metadata": {
      "needs_background": "light"
     },
     "output_type": "display_data"
    }
   ],
   "source": [
    "cm = confusion_matrix(y_testset,predTree)\n",
    "\n",
    "sns.heatmap(cm,annot=True)\n",
    "plt.show()\n",
    "\n",
    "\n",
    "\n"
   ]
  },
  {
   "cell_type": "code",
   "execution_count": null,
   "id": "b45c891a",
   "metadata": {},
   "outputs": [],
   "source": []
  }
 ],
 "metadata": {
  "kernelspec": {
   "display_name": "Python 3 (ipykernel)",
   "language": "python",
   "name": "python3"
  },
  "language_info": {
   "codemirror_mode": {
    "name": "ipython",
    "version": 3
   },
   "file_extension": ".py",
   "mimetype": "text/x-python",
   "name": "python",
   "nbconvert_exporter": "python",
   "pygments_lexer": "ipython3",
   "version": "3.10.8"
  }
 },
 "nbformat": 4,
 "nbformat_minor": 5
}
